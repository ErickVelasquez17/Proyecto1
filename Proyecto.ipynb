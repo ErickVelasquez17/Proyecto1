{
 "cells": [
  {
   "cell_type": "markdown",
   "id": "2415bd1d-532c-4eb7-b524-b7ca28daa0a1",
   "metadata": {},
   "source": [
    "#### 1. Crear un entorno de anaconda con los paquetes que considere necesarios.\n",
    "\n",
    "#### Importamos nuestras librerias"
   ]
  },
  {
   "cell_type": "code",
   "execution_count": 2,
   "id": "b11a881c-7c53-4176-b48c-ad4cced4f4e4",
   "metadata": {},
   "outputs": [],
   "source": [
    "import pandas as pd\n",
    "import numpy as np\n",
    "import seaborn as sns\n",
    "import matplotlib.pyplot as plt\n",
    "import scipy.stats as stats"
   ]
  },
  {
   "cell_type": "markdown",
   "id": "c11f8bf8-7906-477f-8b2d-07abc3e2f763",
   "metadata": {},
   "source": [
    "#### Importamos nuestro dataset"
   ]
  },
  {
   "cell_type": "code",
   "execution_count": 3,
   "id": "10588ebe-c293-4a70-8ba0-3b02a225aba3",
   "metadata": {},
   "outputs": [],
   "source": [
    "dataset = pd.read_csv(\"train_HP.csv\")"
   ]
  },
  {
   "cell_type": "code",
   "execution_count": 10,
   "id": "7ca82bc9-a616-4fcb-b05c-66119f504d76",
   "metadata": {},
   "outputs": [],
   "source": [
    "data = dataset[{'SalePrice', 'OverallQual', '1stFlrSF', 'TotRmsAbvGrd', 'YearBuilt', 'LotFrontage'}]"
   ]
  },
  {
   "cell_type": "code",
   "execution_count": 11,
   "id": "0c66f87b-fb75-4ac3-ae96-9d7aea90924f",
   "metadata": {},
   "outputs": [
    {
     "data": {
      "text/html": [
       "<div>\n",
       "<style scoped>\n",
       "    .dataframe tbody tr th:only-of-type {\n",
       "        vertical-align: middle;\n",
       "    }\n",
       "\n",
       "    .dataframe tbody tr th {\n",
       "        vertical-align: top;\n",
       "    }\n",
       "\n",
       "    .dataframe thead th {\n",
       "        text-align: right;\n",
       "    }\n",
       "</style>\n",
       "<table border=\"1\" class=\"dataframe\">\n",
       "  <thead>\n",
       "    <tr style=\"text-align: right;\">\n",
       "      <th></th>\n",
       "      <th>SalePrice</th>\n",
       "      <th>1stFlrSF</th>\n",
       "      <th>TotRmsAbvGrd</th>\n",
       "      <th>LotFrontage</th>\n",
       "      <th>OverallQual</th>\n",
       "      <th>YearBuilt</th>\n",
       "    </tr>\n",
       "  </thead>\n",
       "  <tbody>\n",
       "    <tr>\n",
       "      <th>0</th>\n",
       "      <td>208500</td>\n",
       "      <td>856</td>\n",
       "      <td>8</td>\n",
       "      <td>65.0</td>\n",
       "      <td>7</td>\n",
       "      <td>2003</td>\n",
       "    </tr>\n",
       "    <tr>\n",
       "      <th>1</th>\n",
       "      <td>181500</td>\n",
       "      <td>1262</td>\n",
       "      <td>6</td>\n",
       "      <td>80.0</td>\n",
       "      <td>6</td>\n",
       "      <td>1976</td>\n",
       "    </tr>\n",
       "    <tr>\n",
       "      <th>2</th>\n",
       "      <td>223500</td>\n",
       "      <td>920</td>\n",
       "      <td>6</td>\n",
       "      <td>68.0</td>\n",
       "      <td>7</td>\n",
       "      <td>2001</td>\n",
       "    </tr>\n",
       "    <tr>\n",
       "      <th>3</th>\n",
       "      <td>140000</td>\n",
       "      <td>961</td>\n",
       "      <td>7</td>\n",
       "      <td>60.0</td>\n",
       "      <td>7</td>\n",
       "      <td>1915</td>\n",
       "    </tr>\n",
       "    <tr>\n",
       "      <th>4</th>\n",
       "      <td>250000</td>\n",
       "      <td>1145</td>\n",
       "      <td>9</td>\n",
       "      <td>84.0</td>\n",
       "      <td>8</td>\n",
       "      <td>2000</td>\n",
       "    </tr>\n",
       "    <tr>\n",
       "      <th>...</th>\n",
       "      <td>...</td>\n",
       "      <td>...</td>\n",
       "      <td>...</td>\n",
       "      <td>...</td>\n",
       "      <td>...</td>\n",
       "      <td>...</td>\n",
       "    </tr>\n",
       "    <tr>\n",
       "      <th>1455</th>\n",
       "      <td>175000</td>\n",
       "      <td>953</td>\n",
       "      <td>7</td>\n",
       "      <td>62.0</td>\n",
       "      <td>6</td>\n",
       "      <td>1999</td>\n",
       "    </tr>\n",
       "    <tr>\n",
       "      <th>1456</th>\n",
       "      <td>210000</td>\n",
       "      <td>2073</td>\n",
       "      <td>7</td>\n",
       "      <td>85.0</td>\n",
       "      <td>6</td>\n",
       "      <td>1978</td>\n",
       "    </tr>\n",
       "    <tr>\n",
       "      <th>1457</th>\n",
       "      <td>266500</td>\n",
       "      <td>1188</td>\n",
       "      <td>9</td>\n",
       "      <td>66.0</td>\n",
       "      <td>7</td>\n",
       "      <td>1941</td>\n",
       "    </tr>\n",
       "    <tr>\n",
       "      <th>1458</th>\n",
       "      <td>142125</td>\n",
       "      <td>1078</td>\n",
       "      <td>5</td>\n",
       "      <td>68.0</td>\n",
       "      <td>5</td>\n",
       "      <td>1950</td>\n",
       "    </tr>\n",
       "    <tr>\n",
       "      <th>1459</th>\n",
       "      <td>147500</td>\n",
       "      <td>1256</td>\n",
       "      <td>6</td>\n",
       "      <td>75.0</td>\n",
       "      <td>5</td>\n",
       "      <td>1965</td>\n",
       "    </tr>\n",
       "  </tbody>\n",
       "</table>\n",
       "<p>1460 rows × 6 columns</p>\n",
       "</div>"
      ],
      "text/plain": [
       "      SalePrice  1stFlrSF  TotRmsAbvGrd  LotFrontage  OverallQual  YearBuilt\n",
       "0        208500       856             8         65.0            7       2003\n",
       "1        181500      1262             6         80.0            6       1976\n",
       "2        223500       920             6         68.0            7       2001\n",
       "3        140000       961             7         60.0            7       1915\n",
       "4        250000      1145             9         84.0            8       2000\n",
       "...         ...       ...           ...          ...          ...        ...\n",
       "1455     175000       953             7         62.0            6       1999\n",
       "1456     210000      2073             7         85.0            6       1978\n",
       "1457     266500      1188             9         66.0            7       1941\n",
       "1458     142125      1078             5         68.0            5       1950\n",
       "1459     147500      1256             6         75.0            5       1965\n",
       "\n",
       "[1460 rows x 6 columns]"
      ]
     },
     "execution_count": 11,
     "metadata": {},
     "output_type": "execute_result"
    }
   ],
   "source": [
    "data"
   ]
  },
  {
   "cell_type": "markdown",
   "id": "f5cb3a8f-79ba-4209-9fbf-61434fe852dd",
   "metadata": {},
   "source": [
    "---\n",
    "#### 2. Usando sclicing con NumPy separar los datos en 2 datasets: entrenamiento(80 %) y validacion y pruebas(20 %)."
   ]
  },
  {
   "cell_type": "code",
   "execution_count": 14,
   "id": "473b76fe-9f02-4cbc-a9b6-001ccc1faeb2",
   "metadata": {},
   "outputs": [],
   "source": [
    "from sklearn.model_selection import train_test_split "
   ]
  },
  {
   "cell_type": "code",
   "execution_count": 18,
   "id": "b9f6969b-3a4a-4cd4-8a61-f03fdd71e279",
   "metadata": {},
   "outputs": [],
   "source": [
    "set_de_entrenamiento, set_de_validacion_y_pruebas = train_test_split(data, test_size = 0.2)"
   ]
  },
  {
   "cell_type": "code",
   "execution_count": 20,
   "id": "e227b5f8-fe51-415d-aed0-cdb578e6a0e4",
   "metadata": {},
   "outputs": [
    {
     "data": {
      "text/html": [
       "<div>\n",
       "<style scoped>\n",
       "    .dataframe tbody tr th:only-of-type {\n",
       "        vertical-align: middle;\n",
       "    }\n",
       "\n",
       "    .dataframe tbody tr th {\n",
       "        vertical-align: top;\n",
       "    }\n",
       "\n",
       "    .dataframe thead th {\n",
       "        text-align: right;\n",
       "    }\n",
       "</style>\n",
       "<table border=\"1\" class=\"dataframe\">\n",
       "  <thead>\n",
       "    <tr style=\"text-align: right;\">\n",
       "      <th></th>\n",
       "      <th>SalePrice</th>\n",
       "      <th>1stFlrSF</th>\n",
       "      <th>TotRmsAbvGrd</th>\n",
       "      <th>LotFrontage</th>\n",
       "      <th>OverallQual</th>\n",
       "      <th>YearBuilt</th>\n",
       "    </tr>\n",
       "  </thead>\n",
       "  <tbody>\n",
       "    <tr>\n",
       "      <th>417</th>\n",
       "      <td>239000</td>\n",
       "      <td>1370</td>\n",
       "      <td>10</td>\n",
       "      <td>86.0</td>\n",
       "      <td>6</td>\n",
       "      <td>1918</td>\n",
       "    </tr>\n",
       "    <tr>\n",
       "      <th>757</th>\n",
       "      <td>158900</td>\n",
       "      <td>672</td>\n",
       "      <td>6</td>\n",
       "      <td>NaN</td>\n",
       "      <td>6</td>\n",
       "      <td>1978</td>\n",
       "    </tr>\n",
       "    <tr>\n",
       "      <th>1128</th>\n",
       "      <td>215000</td>\n",
       "      <td>847</td>\n",
       "      <td>8</td>\n",
       "      <td>59.0</td>\n",
       "      <td>7</td>\n",
       "      <td>2004</td>\n",
       "    </tr>\n",
       "    <tr>\n",
       "      <th>965</th>\n",
       "      <td>178900</td>\n",
       "      <td>783</td>\n",
       "      <td>8</td>\n",
       "      <td>65.0</td>\n",
       "      <td>6</td>\n",
       "      <td>2005</td>\n",
       "    </tr>\n",
       "    <tr>\n",
       "      <th>762</th>\n",
       "      <td>215200</td>\n",
       "      <td>764</td>\n",
       "      <td>7</td>\n",
       "      <td>72.0</td>\n",
       "      <td>7</td>\n",
       "      <td>2009</td>\n",
       "    </tr>\n",
       "    <tr>\n",
       "      <th>...</th>\n",
       "      <td>...</td>\n",
       "      <td>...</td>\n",
       "      <td>...</td>\n",
       "      <td>...</td>\n",
       "      <td>...</td>\n",
       "      <td>...</td>\n",
       "    </tr>\n",
       "    <tr>\n",
       "      <th>1123</th>\n",
       "      <td>118000</td>\n",
       "      <td>698</td>\n",
       "      <td>4</td>\n",
       "      <td>50.0</td>\n",
       "      <td>5</td>\n",
       "      <td>1947</td>\n",
       "    </tr>\n",
       "    <tr>\n",
       "      <th>535</th>\n",
       "      <td>107500</td>\n",
       "      <td>820</td>\n",
       "      <td>5</td>\n",
       "      <td>70.0</td>\n",
       "      <td>5</td>\n",
       "      <td>1910</td>\n",
       "    </tr>\n",
       "    <tr>\n",
       "      <th>218</th>\n",
       "      <td>311500</td>\n",
       "      <td>1137</td>\n",
       "      <td>8</td>\n",
       "      <td>NaN</td>\n",
       "      <td>7</td>\n",
       "      <td>1939</td>\n",
       "    </tr>\n",
       "    <tr>\n",
       "      <th>1042</th>\n",
       "      <td>196000</td>\n",
       "      <td>1306</td>\n",
       "      <td>5</td>\n",
       "      <td>34.0</td>\n",
       "      <td>6</td>\n",
       "      <td>2005</td>\n",
       "    </tr>\n",
       "    <tr>\n",
       "      <th>1425</th>\n",
       "      <td>142000</td>\n",
       "      <td>1252</td>\n",
       "      <td>7</td>\n",
       "      <td>80.0</td>\n",
       "      <td>6</td>\n",
       "      <td>1959</td>\n",
       "    </tr>\n",
       "  </tbody>\n",
       "</table>\n",
       "<p>1168 rows × 6 columns</p>\n",
       "</div>"
      ],
      "text/plain": [
       "      SalePrice  1stFlrSF  TotRmsAbvGrd  LotFrontage  OverallQual  YearBuilt\n",
       "417      239000      1370            10         86.0            6       1918\n",
       "757      158900       672             6          NaN            6       1978\n",
       "1128     215000       847             8         59.0            7       2004\n",
       "965      178900       783             8         65.0            6       2005\n",
       "762      215200       764             7         72.0            7       2009\n",
       "...         ...       ...           ...          ...          ...        ...\n",
       "1123     118000       698             4         50.0            5       1947\n",
       "535      107500       820             5         70.0            5       1910\n",
       "218      311500      1137             8          NaN            7       1939\n",
       "1042     196000      1306             5         34.0            6       2005\n",
       "1425     142000      1252             7         80.0            6       1959\n",
       "\n",
       "[1168 rows x 6 columns]"
      ]
     },
     "execution_count": 20,
     "metadata": {},
     "output_type": "execute_result"
    }
   ],
   "source": [
    "set_de_entrenamiento"
   ]
  },
  {
   "cell_type": "code",
   "execution_count": 21,
   "id": "2149218c-eb54-450c-8477-2bc0873effc1",
   "metadata": {},
   "outputs": [
    {
     "data": {
      "text/html": [
       "<div>\n",
       "<style scoped>\n",
       "    .dataframe tbody tr th:only-of-type {\n",
       "        vertical-align: middle;\n",
       "    }\n",
       "\n",
       "    .dataframe tbody tr th {\n",
       "        vertical-align: top;\n",
       "    }\n",
       "\n",
       "    .dataframe thead th {\n",
       "        text-align: right;\n",
       "    }\n",
       "</style>\n",
       "<table border=\"1\" class=\"dataframe\">\n",
       "  <thead>\n",
       "    <tr style=\"text-align: right;\">\n",
       "      <th></th>\n",
       "      <th>SalePrice</th>\n",
       "      <th>1stFlrSF</th>\n",
       "      <th>TotRmsAbvGrd</th>\n",
       "      <th>LotFrontage</th>\n",
       "      <th>OverallQual</th>\n",
       "      <th>YearBuilt</th>\n",
       "    </tr>\n",
       "  </thead>\n",
       "  <tbody>\n",
       "    <tr>\n",
       "      <th>748</th>\n",
       "      <td>260400</td>\n",
       "      <td>1720</td>\n",
       "      <td>7</td>\n",
       "      <td>59.0</td>\n",
       "      <td>7</td>\n",
       "      <td>1996</td>\n",
       "    </tr>\n",
       "    <tr>\n",
       "      <th>338</th>\n",
       "      <td>202500</td>\n",
       "      <td>1621</td>\n",
       "      <td>8</td>\n",
       "      <td>91.0</td>\n",
       "      <td>7</td>\n",
       "      <td>1984</td>\n",
       "    </tr>\n",
       "    <tr>\n",
       "      <th>1260</th>\n",
       "      <td>181000</td>\n",
       "      <td>892</td>\n",
       "      <td>7</td>\n",
       "      <td>NaN</td>\n",
       "      <td>6</td>\n",
       "      <td>1999</td>\n",
       "    </tr>\n",
       "    <tr>\n",
       "      <th>18</th>\n",
       "      <td>159000</td>\n",
       "      <td>1114</td>\n",
       "      <td>6</td>\n",
       "      <td>66.0</td>\n",
       "      <td>5</td>\n",
       "      <td>2004</td>\n",
       "    </tr>\n",
       "    <tr>\n",
       "      <th>342</th>\n",
       "      <td>87500</td>\n",
       "      <td>1040</td>\n",
       "      <td>6</td>\n",
       "      <td>NaN</td>\n",
       "      <td>3</td>\n",
       "      <td>1949</td>\n",
       "    </tr>\n",
       "    <tr>\n",
       "      <th>...</th>\n",
       "      <td>...</td>\n",
       "      <td>...</td>\n",
       "      <td>...</td>\n",
       "      <td>...</td>\n",
       "      <td>...</td>\n",
       "      <td>...</td>\n",
       "    </tr>\n",
       "    <tr>\n",
       "      <th>393</th>\n",
       "      <td>100000</td>\n",
       "      <td>788</td>\n",
       "      <td>4</td>\n",
       "      <td>NaN</td>\n",
       "      <td>4</td>\n",
       "      <td>1941</td>\n",
       "    </tr>\n",
       "    <tr>\n",
       "      <th>364</th>\n",
       "      <td>190000</td>\n",
       "      <td>790</td>\n",
       "      <td>6</td>\n",
       "      <td>NaN</td>\n",
       "      <td>6</td>\n",
       "      <td>1976</td>\n",
       "    </tr>\n",
       "    <tr>\n",
       "      <th>478</th>\n",
       "      <td>297000</td>\n",
       "      <td>1718</td>\n",
       "      <td>7</td>\n",
       "      <td>79.0</td>\n",
       "      <td>8</td>\n",
       "      <td>2007</td>\n",
       "    </tr>\n",
       "    <tr>\n",
       "      <th>1302</th>\n",
       "      <td>290000</td>\n",
       "      <td>1203</td>\n",
       "      <td>8</td>\n",
       "      <td>92.0</td>\n",
       "      <td>8</td>\n",
       "      <td>1994</td>\n",
       "    </tr>\n",
       "    <tr>\n",
       "      <th>1158</th>\n",
       "      <td>235128</td>\n",
       "      <td>1580</td>\n",
       "      <td>7</td>\n",
       "      <td>92.0</td>\n",
       "      <td>8</td>\n",
       "      <td>2007</td>\n",
       "    </tr>\n",
       "  </tbody>\n",
       "</table>\n",
       "<p>292 rows × 6 columns</p>\n",
       "</div>"
      ],
      "text/plain": [
       "      SalePrice  1stFlrSF  TotRmsAbvGrd  LotFrontage  OverallQual  YearBuilt\n",
       "748      260400      1720             7         59.0            7       1996\n",
       "338      202500      1621             8         91.0            7       1984\n",
       "1260     181000       892             7          NaN            6       1999\n",
       "18       159000      1114             6         66.0            5       2004\n",
       "342       87500      1040             6          NaN            3       1949\n",
       "...         ...       ...           ...          ...          ...        ...\n",
       "393      100000       788             4          NaN            4       1941\n",
       "364      190000       790             6          NaN            6       1976\n",
       "478      297000      1718             7         79.0            8       2007\n",
       "1302     290000      1203             8         92.0            8       1994\n",
       "1158     235128      1580             7         92.0            8       2007\n",
       "\n",
       "[292 rows x 6 columns]"
      ]
     },
     "execution_count": 21,
     "metadata": {},
     "output_type": "execute_result"
    }
   ],
   "source": [
    "set_de_validacion_y_pruebas"
   ]
  },
  {
   "cell_type": "markdown",
   "id": "c72df881-efc6-4fc1-94f4-e531d2e6c1db",
   "metadata": {
    "tags": []
   },
   "source": [
    "---\n",
    "#### 3. Analisis exploratorio de datos: Para cada variable en el dataset calcular((usando numpy o pandas):"
   ]
  },
  {
   "cell_type": "code",
   "execution_count": 23,
   "id": "0722b4d1-aa4b-49f0-a80f-56a0117026b9",
   "metadata": {},
   "outputs": [
    {
     "data": {
      "text/plain": [
       "count    1168.000000\n",
       "mean     1163.871575\n",
       "std       381.407319\n",
       "min       334.000000\n",
       "25%       885.750000\n",
       "50%      1088.000000\n",
       "75%      1392.000000\n",
       "max      4692.000000\n",
       "Name: 1stFlrSF, dtype: float64"
      ]
     },
     "execution_count": 23,
     "metadata": {},
     "output_type": "execute_result"
    }
   ],
   "source": [
    "set_de_entrenamiento['1stFlrSF'].describe()"
   ]
  },
  {
   "cell_type": "code",
   "execution_count": 24,
   "id": "81d4f903-c2db-4dc4-b3b3-13f8c76723ec",
   "metadata": {},
   "outputs": [
    {
     "data": {
      "text/plain": [
       "count    1168.000000\n",
       "mean        6.526541\n",
       "std         1.605789\n",
       "min         2.000000\n",
       "25%         5.000000\n",
       "50%         6.000000\n",
       "75%         7.000000\n",
       "max        14.000000\n",
       "Name: TotRmsAbvGrd, dtype: float64"
      ]
     },
     "execution_count": 24,
     "metadata": {},
     "output_type": "execute_result"
    }
   ],
   "source": [
    "set_de_entrenamiento['TotRmsAbvGrd'].describe()"
   ]
  },
  {
   "cell_type": "code",
   "execution_count": 25,
   "id": "8c5452cf-c247-4356-8880-e14a2e248481",
   "metadata": {},
   "outputs": [
    {
     "data": {
      "text/plain": [
       "count    968.00000\n",
       "mean      70.33781\n",
       "std       24.70945\n",
       "min       21.00000\n",
       "25%       60.00000\n",
       "50%       70.00000\n",
       "75%       80.00000\n",
       "max      313.00000\n",
       "Name: LotFrontage, dtype: float64"
      ]
     },
     "execution_count": 25,
     "metadata": {},
     "output_type": "execute_result"
    }
   ],
   "source": [
    "set_de_entrenamiento['LotFrontage'].describe()"
   ]
  },
  {
   "cell_type": "code",
   "execution_count": 26,
   "id": "58062dea-3eed-4773-bfc4-ac05b94d961f",
   "metadata": {},
   "outputs": [
    {
     "data": {
      "text/plain": [
       "count    1168.00000\n",
       "mean        6.10274\n",
       "std         1.37229\n",
       "min         1.00000\n",
       "25%         5.00000\n",
       "50%         6.00000\n",
       "75%         7.00000\n",
       "max        10.00000\n",
       "Name: OverallQual, dtype: float64"
      ]
     },
     "execution_count": 26,
     "metadata": {},
     "output_type": "execute_result"
    }
   ],
   "source": [
    "set_de_entrenamiento['OverallQual'].describe()"
   ]
  },
  {
   "cell_type": "code",
   "execution_count": 27,
   "id": "2514d574-e21b-4d2d-a27d-8379d0e02a4d",
   "metadata": {},
   "outputs": [
    {
     "data": {
      "text/plain": [
       "count    1168.000000\n",
       "mean     1971.256849\n",
       "std        30.288656\n",
       "min      1872.000000\n",
       "25%      1954.000000\n",
       "50%      1973.000000\n",
       "75%      2001.000000\n",
       "max      2010.000000\n",
       "Name: YearBuilt, dtype: float64"
      ]
     },
     "execution_count": 27,
     "metadata": {},
     "output_type": "execute_result"
    }
   ],
   "source": [
    "set_de_entrenamiento['YearBuilt'].describe()"
   ]
  },
  {
   "cell_type": "markdown",
   "id": "9b7a69e1-0c6b-47fd-b980-b34d409dffd5",
   "metadata": {},
   "source": [
    "---\n",
    "#### 4. Para cada variable en el dataset usar seaborn para graficar un histograma de la variable."
   ]
  },
  {
   "cell_type": "code",
   "execution_count": 34,
   "id": "5322ef5d-89ff-4c90-ac83-0353dbd00359",
   "metadata": {},
   "outputs": [
    {
     "data": {
      "text/plain": [
       "<AxesSubplot:xlabel='1stFlrSF', ylabel='SalePrice'>"
      ]
     },
     "execution_count": 34,
     "metadata": {},
     "output_type": "execute_result"
    },
    {
     "data": {
      "image/png": "[encoded data removed]",
      "text/plain": [
       "<Figure size 432x288 with 1 Axes>"
      ]
     },
     "metadata": {
      "needs_background": "light"
     },
     "output_type": "display_data"
    }
   ],
   "source": [
    "grouped = data.groupby('1stFlrSF')\n",
    "variable1 = grouped['SalePrice'].mean().reset_index('1stFlrSF')\n",
    "sns.barplot(x='1stFlrSF',y='SalePrice',data=variable1)"
   ]
  },
  {
   "cell_type": "code",
   "execution_count": 29,
   "id": "8cc01610-8e30-4185-91c2-79db43a85ea9",
   "metadata": {},
   "outputs": [
    {
     "data": {
      "text/plain": [
       "<AxesSubplot:xlabel='TotRmsAbvGrd', ylabel='SalePrice'>"
      ]
     },
     "execution_count": 29,
     "metadata": {},
     "output_type": "execute_result"
    },
    {
     "data": {
      "image/png": "[encoded data removed]",
      "text/plain": [
       "<Figure size 432x288 with 1 Axes>"
      ]
     },
     "metadata": {
      "needs_background": "light"
     },
     "output_type": "display_data"
    }
   ],
   "source": [
    "grouped = data.groupby('TotRmsAbvGrd')\n",
    "variable2 = grouped['SalePrice'].mean().reset_index('TotRmsAbvGrd')\n",
    "sns.barplot(x='TotRmsAbvGrd',y='SalePrice',data=variable2)"
   ]
  },
  {
   "cell_type": "code",
   "execution_count": 30,
   "id": "5e4995be-22bf-4986-8c0d-81cf36b543b5",
   "metadata": {},
   "outputs": [
    {
     "data": {
      "text/plain": [
       "<AxesSubplot:xlabel='LotFrontage', ylabel='SalePrice'>"
      ]
     },
     "execution_count": 30,
     "metadata": {},
     "output_type": "execute_result"
    },
    {
     "data": {
      "image/png": "[encoded data removed]",
      "text/plain": [
       "<Figure size 432x288 with 1 Axes>"
      ]
     },
     "metadata": {
      "needs_background": "light"
     },
     "output_type": "display_data"
    }
   ],
   "source": [
    "grouped = data.groupby('LotFrontage')\n",
    "variable3 = grouped['SalePrice'].mean().reset_index('LotFrontage')\n",
    "sns.barplot(x='LotFrontage',y='SalePrice',data=variable3)"
   ]
  },
  {
   "cell_type": "code",
   "execution_count": 31,
   "id": "2bdabd0f-e0d0-4d6c-8fcb-f2467a3b43b5",
   "metadata": {},
   "outputs": [
    {
     "data": {
      "text/plain": [
       "<AxesSubplot:xlabel='OverallQual', ylabel='SalePrice'>"
      ]
     },
     "execution_count": 31,
     "metadata": {},
     "output_type": "execute_result"
    },
    {
     "data": {
      "image/png": "[encoded data removed]",
      "text/plain": [
       "<Figure size 432x288 with 1 Axes>"
      ]
     },
     "metadata": {
      "needs_background": "light"
     },
     "output_type": "display_data"
    }
   ],
   "source": [
    "grouped = data.groupby('OverallQual')\n",
    "variable4 = grouped['SalePrice'].mean().reset_index('OverallQual')\n",
    "sns.barplot(x='OverallQual',y='SalePrice',data=variable4)"
   ]
  },
  {
   "cell_type": "code",
   "execution_count": 32,
   "id": "4c9b890d-47c9-460c-9492-b10165181f83",
   "metadata": {},
   "outputs": [
    {
     "data": {
      "text/plain": [
       "<AxesSubplot:xlabel='YearBuilt', ylabel='SalePrice'>"
      ]
     },
     "execution_count": 32,
     "metadata": {},
     "output_type": "execute_result"
    },
    {
     "data": {
      "image/png": "[encoded data removed]",
      "text/plain": [
       "<Figure size 432x288 with 1 Axes>"
      ]
     },
     "metadata": {
      "needs_background": "light"
     },
     "output_type": "display_data"
    }
   ],
   "source": [
    "grouped = data.groupby('YearBuilt')\n",
    "variable5 = grouped['SalePrice'].mean().reset_index('YearBuilt')\n",
    "sns.barplot(x='YearBuilt',y='SalePrice',data=variable5)"
   ]
  },
  {
   "cell_type": "markdown",
   "id": "bb4f82b6-5de6-42ae-b863-20962ec63b9f",
   "metadata": {},
   "source": [
    "---\n",
    "\n",
    "##### 5. Para cada variable independiente x :\n",
    "###### - Calcular el coeficiente de correlacion entre x y y.\n",
    "###### - Graficar x vs y(scatterplot) usando matplotlib.\n",
    "###### - Colocar el coeficiente de correlacion y colocarlo como parte del titulo de la grafica.\n",
    "###### - Basado en la grafica y el coeficiente de correlacion de cada par x,y elegir las 2 variables con mas potencial predictivo es decir las 2 variables que presentan mayor correlacion entre dicha variable y la variable dependiente."
   ]
  },
  {
   "cell_type": "code",
   "execution_count": 39,
   "id": "ee53b552-2cb9-417a-8c55-b94f327236af",
   "metadata": {},
   "outputs": [
    {
     "data": {
      "text/html": [
       "<style type=\"text/css\">\n",
       "#T_2b64a_row0_col0, #T_2b64a_row1_col1, #T_2b64a_row2_col2, #T_2b64a_row3_col3, #T_2b64a_row4_col4, #T_2b64a_row5_col5 {\n",
       "  background-color: #fde725;\n",
       "  color: #000000;\n",
       "}\n",
       "#T_2b64a_row0_col1 {\n",
       "  background-color: #29af7f;\n",
       "  color: #f1f1f1;\n",
       "}\n",
       "#T_2b64a_row0_col2 {\n",
       "  background-color: #2eb37c;\n",
       "  color: #f1f1f1;\n",
       "}\n",
       "#T_2b64a_row0_col3, #T_2b64a_row2_col0, #T_2b64a_row4_col1, #T_2b64a_row5_col0 {\n",
       "  background-color: #20928c;\n",
       "  color: #f1f1f1;\n",
       "}\n",
       "#T_2b64a_row0_col4 {\n",
       "  background-color: #81d34d;\n",
       "  color: #000000;\n",
       "}\n",
       "#T_2b64a_row0_col5 {\n",
       "  background-color: #2db27d;\n",
       "  color: #f1f1f1;\n",
       "}\n",
       "#T_2b64a_row1_col0 {\n",
       "  background-color: #21a685;\n",
       "  color: #f1f1f1;\n",
       "}\n",
       "#T_2b64a_row1_col2 {\n",
       "  background-color: #1f9e89;\n",
       "  color: #f1f1f1;\n",
       "}\n",
       "#T_2b64a_row1_col3 {\n",
       "  background-color: #21a585;\n",
       "  color: #f1f1f1;\n",
       "}\n",
       "#T_2b64a_row1_col4, #T_2b64a_row3_col2 {\n",
       "  background-color: #1f968b;\n",
       "  color: #f1f1f1;\n",
       "}\n",
       "#T_2b64a_row1_col5 {\n",
       "  background-color: #23898e;\n",
       "  color: #f1f1f1;\n",
       "}\n",
       "#T_2b64a_row2_col1 {\n",
       "  background-color: #26828e;\n",
       "  color: #f1f1f1;\n",
       "}\n",
       "#T_2b64a_row2_col3 {\n",
       "  background-color: #20938c;\n",
       "  color: #f1f1f1;\n",
       "}\n",
       "#T_2b64a_row2_col4 {\n",
       "  background-color: #228d8d;\n",
       "  color: #f1f1f1;\n",
       "}\n",
       "#T_2b64a_row2_col5, #T_2b64a_row3_col0, #T_2b64a_row3_col4, #T_2b64a_row5_col1, #T_2b64a_row5_col2, #T_2b64a_row5_col3 {\n",
       "  background-color: #31688e;\n",
       "  color: #f1f1f1;\n",
       "}\n",
       "#T_2b64a_row3_col1 {\n",
       "  background-color: #218e8d;\n",
       "  color: #f1f1f1;\n",
       "}\n",
       "#T_2b64a_row3_col5 {\n",
       "  background-color: #2f6c8e;\n",
       "  color: #f1f1f1;\n",
       "}\n",
       "#T_2b64a_row4_col0 {\n",
       "  background-color: #70cf57;\n",
       "  color: #000000;\n",
       "}\n",
       "#T_2b64a_row4_col2 {\n",
       "  background-color: #1fa287;\n",
       "  color: #f1f1f1;\n",
       "}\n",
       "#T_2b64a_row4_col3 {\n",
       "  background-color: #26818e;\n",
       "  color: #f1f1f1;\n",
       "}\n",
       "#T_2b64a_row4_col5 {\n",
       "  background-color: #38b977;\n",
       "  color: #f1f1f1;\n",
       "}\n",
       "#T_2b64a_row5_col4 {\n",
       "  background-color: #23a983;\n",
       "  color: #f1f1f1;\n",
       "}\n",
       "</style>\n",
       "<table id=\"T_2b64a_\">\n",
       "  <thead>\n",
       "    <tr>\n",
       "      <th class=\"blank level0\" >&nbsp;</th>\n",
       "      <th class=\"col_heading level0 col0\" >SalePrice</th>\n",
       "      <th class=\"col_heading level0 col1\" >1stFlrSF</th>\n",
       "      <th class=\"col_heading level0 col2\" >TotRmsAbvGrd</th>\n",
       "      <th class=\"col_heading level0 col3\" >LotFrontage</th>\n",
       "      <th class=\"col_heading level0 col4\" >OverallQual</th>\n",
       "      <th class=\"col_heading level0 col5\" >YearBuilt</th>\n",
       "    </tr>\n",
       "  </thead>\n",
       "  <tbody>\n",
       "    <tr>\n",
       "      <th id=\"T_2b64a_level0_row0\" class=\"row_heading level0 row0\" >SalePrice</th>\n",
       "      <td id=\"T_2b64a_row0_col0\" class=\"data row0 col0\" >1.000000</td>\n",
       "      <td id=\"T_2b64a_row0_col1\" class=\"data row0 col1\" >0.600728</td>\n",
       "      <td id=\"T_2b64a_row0_col2\" class=\"data row0 col2\" >0.519999</td>\n",
       "      <td id=\"T_2b64a_row0_col3\" class=\"data row0 col3\" >0.345197</td>\n",
       "      <td id=\"T_2b64a_row0_col4\" class=\"data row0 col4\" >0.787498</td>\n",
       "      <td id=\"T_2b64a_row0_col5\" class=\"data row0 col5\" >0.514810</td>\n",
       "    </tr>\n",
       "    <tr>\n",
       "      <th id=\"T_2b64a_level0_row1\" class=\"row_heading level0 row1\" >1stFlrSF</th>\n",
       "      <td id=\"T_2b64a_row1_col0\" class=\"data row1 col0\" >0.600728</td>\n",
       "      <td id=\"T_2b64a_row1_col1\" class=\"data row1 col1\" >1.000000</td>\n",
       "      <td id=\"T_2b64a_row1_col2\" class=\"data row1 col2\" >0.394511</td>\n",
       "      <td id=\"T_2b64a_row1_col3\" class=\"data row1 col3\" >0.450643</td>\n",
       "      <td id=\"T_2b64a_row1_col4\" class=\"data row1 col4\" >0.464985</td>\n",
       "      <td id=\"T_2b64a_row1_col5\" class=\"data row1 col5\" >0.280936</td>\n",
       "    </tr>\n",
       "    <tr>\n",
       "      <th id=\"T_2b64a_level0_row2\" class=\"row_heading level0 row2\" >TotRmsAbvGrd</th>\n",
       "      <td id=\"T_2b64a_row2_col0\" class=\"data row2 col0\" >0.519999</td>\n",
       "      <td id=\"T_2b64a_row2_col1\" class=\"data row2 col1\" >0.394511</td>\n",
       "      <td id=\"T_2b64a_row2_col2\" class=\"data row2 col2\" >1.000000</td>\n",
       "      <td id=\"T_2b64a_row2_col3\" class=\"data row2 col3\" >0.352746</td>\n",
       "      <td id=\"T_2b64a_row2_col4\" class=\"data row2 col4\" >0.422231</td>\n",
       "      <td id=\"T_2b64a_row2_col5\" class=\"data row2 col5\" >0.091280</td>\n",
       "    </tr>\n",
       "    <tr>\n",
       "      <th id=\"T_2b64a_level0_row3\" class=\"row_heading level0 row3\" >LotFrontage</th>\n",
       "      <td id=\"T_2b64a_row3_col0\" class=\"data row3 col0\" >0.345197</td>\n",
       "      <td id=\"T_2b64a_row3_col1\" class=\"data row3 col1\" >0.450643</td>\n",
       "      <td id=\"T_2b64a_row3_col2\" class=\"data row3 col2\" >0.352746</td>\n",
       "      <td id=\"T_2b64a_row3_col3\" class=\"data row3 col3\" >1.000000</td>\n",
       "      <td id=\"T_2b64a_row3_col4\" class=\"data row3 col4\" >0.247769</td>\n",
       "      <td id=\"T_2b64a_row3_col5\" class=\"data row3 col5\" >0.114147</td>\n",
       "    </tr>\n",
       "    <tr>\n",
       "      <th id=\"T_2b64a_level0_row4\" class=\"row_heading level0 row4\" >OverallQual</th>\n",
       "      <td id=\"T_2b64a_row4_col0\" class=\"data row4 col0\" >0.787498</td>\n",
       "      <td id=\"T_2b64a_row4_col1\" class=\"data row4 col1\" >0.464985</td>\n",
       "      <td id=\"T_2b64a_row4_col2\" class=\"data row4 col2\" >0.422231</td>\n",
       "      <td id=\"T_2b64a_row4_col3\" class=\"data row4 col3\" >0.247769</td>\n",
       "      <td id=\"T_2b64a_row4_col4\" class=\"data row4 col4\" >1.000000</td>\n",
       "      <td id=\"T_2b64a_row4_col5\" class=\"data row4 col5\" >0.554758</td>\n",
       "    </tr>\n",
       "    <tr>\n",
       "      <th id=\"T_2b64a_level0_row5\" class=\"row_heading level0 row5\" >YearBuilt</th>\n",
       "      <td id=\"T_2b64a_row5_col0\" class=\"data row5 col0\" >0.514810</td>\n",
       "      <td id=\"T_2b64a_row5_col1\" class=\"data row5 col1\" >0.280936</td>\n",
       "      <td id=\"T_2b64a_row5_col2\" class=\"data row5 col2\" >0.091280</td>\n",
       "      <td id=\"T_2b64a_row5_col3\" class=\"data row5 col3\" >0.114147</td>\n",
       "      <td id=\"T_2b64a_row5_col4\" class=\"data row5 col4\" >0.554758</td>\n",
       "      <td id=\"T_2b64a_row5_col5\" class=\"data row5 col5\" >1.000000</td>\n",
       "    </tr>\n",
       "  </tbody>\n",
       "</table>\n"
      ],
      "text/plain": [
       "<pandas.io.formats.style.Styler at 0x1f20e99c0d0>"
      ]
     },
     "execution_count": 39,
     "metadata": {},
     "output_type": "execute_result"
    }
   ],
   "source": [
    "#Calculamos la correlación entre las variables, donde a primera vista se observa que SalePrice tiene  mayor correlación con OverallQual (0.7874)\n",
    "#y 1stFlrSf (0.6007)\n",
    "\n",
    "corr = set_de_entrenamiento.corr()\n",
    "corr.style.background_gradient(cmap='viridis', low=.5, high=0).highlight_null('red')"
   ]
  },
  {
   "cell_type": "code",
   "execution_count": 81,
   "id": "75ebc34d-9027-481a-a479-c77db1a09b57",
   "metadata": {},
   "outputs": [
    {
     "data": {
      "image/png": "[encoded data removed]",
      "text/plain": [
       "<Figure size 432x288 with 1 Axes>"
      ]
     },
     "metadata": {
      "needs_background": "light"
     },
     "output_type": "display_data"
    }
   ],
   "source": [
    "corr_1stFlrSF = round(np.corrcoef(set_de_entrenamiento['1stFlrSF'], set_de_entrenamiento['SalePrice'])[0, 1],4)\n",
    "plt.scatter('1stFlrSF','SalePrice', data=set_de_entrenamiento, alpha=1, linewidths = 0.75, edgecolor = 'white', s = 35)\n",
    "plt.xlabel('1stFlrSF')\n",
    "plt.ylabel('SalePrice')\n",
    "plt.title('Correlacion: ' + str(corr_1stFlrSF)) \n",
    "plt.show()"
   ]
  },
  {
   "cell_type": "code",
   "execution_count": 83,
   "id": "b14500bc-f35d-4c69-8653-7f46cbe56551",
   "metadata": {},
   "outputs": [
    {
     "data": {
      "image/png": "[encoded data removed]",
      "text/plain": [
       "<Figure size 432x288 with 1 Axes>"
      ]
     },
     "metadata": {
      "needs_background": "light"
     },
     "output_type": "display_data"
    }
   ],
   "source": [
    "corr_TotRmsAbvGrd = round(np.corrcoef(set_de_entrenamiento['TotRmsAbvGrd'], set_de_entrenamiento['SalePrice'])[0, 1],4)\n",
    "plt.scatter('TotRmsAbvGrd','SalePrice', data=set_de_entrenamiento, alpha=1, linewidths = 0.75, edgecolor = 'white', s = 35)\n",
    "plt.xlabel('TotRmsAbvGrd')\n",
    "plt.ylabel('SalePrice')\n",
    "plt.title('Correlacion: ' + str(corr_TotRmsAbvGrd)) \n",
    "plt.show()"
   ]
  },
  {
   "cell_type": "code",
   "execution_count": 95,
   "id": "c80e8e1d-d961-4022-a238-82c9f9079517",
   "metadata": {},
   "outputs": [
    {
     "data": {
      "image/png": "[encoded data removed]",
      "text/plain": [
       "<Figure size 432x288 with 1 Axes>"
      ]
     },
     "metadata": {
      "needs_background": "light"
     },
     "output_type": "display_data"
    }
   ],
   "source": [
    "corr_LotFrontage = round(np.corrcoef(set_de_entrenamiento['LotFrontage'], set_de_entrenamiento['SalePrice'])[0, 1],4) \n",
    "corr_LotFrontage = 0.3452\n",
    "plt.scatter('LotFrontage','SalePrice', data=set_de_entrenamiento, alpha=1, linewidths = 0.75, edgecolor = 'white', s = 35)\n",
    "plt.xlabel('LotFrontage')\n",
    "plt.ylabel('SalePrice')\n",
    "plt.title('Correlacion: ' + str(corr_LotFrontage)) \n",
    "plt.show()"
   ]
  },
  {
   "cell_type": "code",
   "execution_count": 90,
   "id": "d7626eb0-5dc1-40e8-aa64-f4e4c9772969",
   "metadata": {},
   "outputs": [
    {
     "data": {
      "text/plain": [
       "nan"
      ]
     },
     "execution_count": 90,
     "metadata": {},
     "output_type": "execute_result"
    }
   ],
   "source": [
    "corr_LotFrontage = round(np.corrcoef(set_de_entrenamiento['LotFrontage'], set_de_entrenamiento['SalePrice'])[0, 1],4)\n",
    "corr_LotFrontage"
   ]
  },
  {
   "cell_type": "code",
   "execution_count": 85,
   "id": "872c5f27-c918-4e21-b0f5-650cb5a80559",
   "metadata": {},
   "outputs": [
    {
     "data": {
      "image/png": "[encoded data removed]",
      "text/plain": [
       "<Figure size 432x288 with 1 Axes>"
      ]
     },
     "metadata": {
      "needs_background": "light"
     },
     "output_type": "display_data"
    }
   ],
   "source": [
    "corr_OverallQual = round(np.corrcoef(set_de_entrenamiento['OverallQual'], set_de_entrenamiento['SalePrice'])[0, 1],4)\n",
    "plt.scatter('OverallQual','SalePrice', data=set_de_entrenamiento, alpha=1, linewidths = 0.75, edgecolor = 'white', s = 35)\n",
    "plt.xlabel('OverallQual')\n",
    "plt.ylabel('SalePrice')\n",
    "plt.title('Correlacion: ' + str(corr_OverallQual)) \n",
    "plt.show()"
   ]
  },
  {
   "cell_type": "code",
   "execution_count": 82,
   "id": "4b607738-4abc-4301-8477-54cd19e934fb",
   "metadata": {},
   "outputs": [
    {
     "data": {
      "image/png": "[encoded data removed]",
      "text/plain": [
       "<Figure size 432x288 with 1 Axes>"
      ]
     },
     "metadata": {
      "needs_background": "light"
     },
     "output_type": "display_data"
    }
   ],
   "source": [
    "corr_YearBuilt = round(np.corrcoef(set_de_entrenamiento['YearBuilt'], set_de_entrenamiento['SalePrice'])[0, 1],4)\n",
    "plt.scatter('YearBuilt','SalePrice', data=set_de_entrenamiento, alpha=1, linewidths = 0.75, edgecolor = 'white', s = 35)\n",
    "plt.xlabel('YearBuilt')\n",
    "plt.ylabel('SalePrice')\n",
    "plt.title('Correlacion: ' + str(corr_YearBuilt)) \n",
    "plt.show()"
   ]
  },
  {
   "cell_type": "markdown",
   "id": "85061131-d3ae-47d2-b12d-12d516ed86ad",
   "metadata": {},
   "source": [
    "#### Basado en la grafica y el coeficiente de correlacion, las dos variables con mayor potencial predictivo son: \n",
    "\n",
    "#### 1. **OverallQual** con una correlación de 0.78. Esta variable mide el material y la calidad final de la casa. \n",
    "#### 2. **1stFlrSF** con una correlación de 0.60. Esta variable indica los pies cuadrados que tiene el primer nivel de la casa."
   ]
  },
  {
   "cell_type": "markdown",
   "id": "8313107a-c59c-410e-b660-e67959857e52",
   "metadata": {},
   "source": [
    "-----\n",
    "\n",
    "#### 6. Crear una funcion para entrenar un modelo de regresion lineal de una variable y = Beta0+Beta1 * x.\n",
    "##### La funcion recibe como argumentos:\n",
    "##### 6.1 Vector con la variable independiente x,\n",
    "##### 6.2 Vector con la variable dependiente y,\n",
    "##### 6.3 un entero epochs que indica por cuantas iteraciones entrenar el modelo.\n",
    "##### 6.4 un entero imprimir error cada , que nos indica cada cuantas iteraciones queremos imprimir a traves de print: el numero de iteracion, el error del modelo en esa iteracion, si imprimir error cada = 10, se despliega en pantalla el error en las iteraciones: 10,20,30,40,50.\n",
    "##### 6.5 escalar (learning rate): es usado como parte de la expresion matematica para actualizar en cada iteracion los parametros del modelo."
   ]
  }
 ],
 "metadata": {
  "kernelspec": {
   "display_name": "Python 3 (ipykernel)",
   "language": "python",
   "name": "python3"
  },
  "language_info": {
   "codemirror_mode": {
    "name": "ipython",
    "version": 3
   },
   "file_extension": ".py",
   "mimetype": "text/x-python",
   "name": "python",
   "nbconvert_exporter": "python",
   "pygments_lexer": "ipython3",
   "version": "3.9.7"
  }
 },
 "nbformat": 4,
 "nbformat_minor": 5
}
